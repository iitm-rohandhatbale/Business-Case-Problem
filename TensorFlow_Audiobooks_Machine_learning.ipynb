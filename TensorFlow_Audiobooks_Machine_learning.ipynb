{
 "cells": [
  {
   "cell_type": "markdown",
   "metadata": {},
   "source": [
    "# Batching"
   ]
  },
  {
   "cell_type": "code",
   "execution_count": 1,
   "metadata": {},
   "outputs": [],
   "source": [
    "import numpy as np\n",
    "\n",
    "#A class that will do Batching for the algorithm\n",
    "class Audiobooks_Data_Reader():\n",
    "    \n",
    "    def __init__(self, dataset, batch_size = None):\n",
    "        \n",
    "        #dataset loads one of \"train\",\"Test\",\"Validation\"\n",
    "        npz = np.load('Audiobooks_data_{0}.npz'.format(dataset))\n",
    "        \n",
    "        self.inputs, self.targets = npz['inputs'].astype(np.float), npz['targets'].astype(np.int)\n",
    "        \n",
    "        if batch_size is None:\n",
    "            self.batch_size = self.inputs.shape[0]\n",
    "        else:\n",
    "            self.batch_size = batch_size\n",
    "        self.curr_batch = 0\n",
    "        self.batch_count = self.inputs.shape[0] // self.batch_size\n",
    "        \n",
    "    def __next__(self):\n",
    "        if self.curr_batch >= self.batch_count:\n",
    "            self.curr_batch = 0\n",
    "            raise StopIteration()\n",
    "            \n",
    "            \n",
    "        batch_slice = slice(self.curr_batch*self.batch_size, (self.curr_batch + 1) * self.batch_size)\n",
    "        inputs_batch = self.inputs[batch_slice]\n",
    "        targets_batch = self.targets[batch_slice]\n",
    "        self.curr_batch+=1\n",
    "        \n",
    "        \n",
    "        classes_num = 2\n",
    "        targets_one_hot = np.zeros((targets_batch.shape[0], classes_num))\n",
    "        targets_one_hot[range(targets_batch.shape[0]),targets_batch] = 1\n",
    "        \n",
    "        return inputs_batch,targets_one_hot\n",
    "    \n",
    "    \n",
    "    \n",
    "    \n",
    "    def __iter__(self):\n",
    "        return self"
   ]
  },
  {
   "cell_type": "markdown",
   "metadata": {},
   "source": [
    "# Create the Machine Learning Model"
   ]
  },
  {
   "cell_type": "code",
   "execution_count": 7,
   "metadata": {},
   "outputs": [],
   "source": [
    "import tensorflow as tf"
   ]
  },
  {
   "cell_type": "code",
   "execution_count": 12,
   "metadata": {},
   "outputs": [
    {
     "name": "stdout",
     "output_type": "stream",
     "text": [
      "Epoch1.Training Loss: 0.587.Validation Loss: 0.422.Validation Accuracy: 83.00%\n",
      "Epoch2.Training Loss: 0.396.Validation Loss: 0.305.Validation Accuracy: 90.38%\n",
      "Epoch3.Training Loss: 0.330.Validation Loss: 0.263.Validation Accuracy: 91.72%\n",
      "Epoch4.Training Loss: 0.306.Validation Loss: 0.242.Validation Accuracy: 92.17%\n",
      "Epoch5.Training Loss: 0.291.Validation Loss: 0.228.Validation Accuracy: 92.84%\n",
      "Epoch6.Training Loss: 0.280.Validation Loss: 0.219.Validation Accuracy: 93.06%\n",
      "Epoch7.Training Loss: 0.272.Validation Loss: 0.211.Validation Accuracy: 93.06%\n",
      "Epoch8.Training Loss: 0.266.Validation Loss: 0.206.Validation Accuracy: 93.06%\n",
      "Epoch9.Training Loss: 0.261.Validation Loss: 0.202.Validation Accuracy: 93.29%\n",
      "Epoch10.Training Loss: 0.257.Validation Loss: 0.198.Validation Accuracy: 93.74%\n",
      "Epoch11.Training Loss: 0.254.Validation Loss: 0.194.Validation Accuracy: 93.96%\n",
      "Epoch12.Training Loss: 0.252.Validation Loss: 0.192.Validation Accuracy: 93.96%\n",
      "Epoch13.Training Loss: 0.249.Validation Loss: 0.189.Validation Accuracy: 94.18%\n",
      "Epoch14.Training Loss: 0.247.Validation Loss: 0.187.Validation Accuracy: 94.41%\n",
      "Epoch15.Training Loss: 0.246.Validation Loss: 0.185.Validation Accuracy: 94.63%\n",
      "Epoch16.Training Loss: 0.244.Validation Loss: 0.184.Validation Accuracy: 94.63%\n",
      "Epoch17.Training Loss: 0.243.Validation Loss: 0.182.Validation Accuracy: 94.63%\n",
      "Epoch18.Training Loss: 0.241.Validation Loss: 0.181.Validation Accuracy: 94.63%\n",
      "Epoch19.Training Loss: 0.240.Validation Loss: 0.179.Validation Accuracy: 94.63%\n",
      "Epoch20.Training Loss: 0.239.Validation Loss: 0.178.Validation Accuracy: 94.85%\n",
      "Epoch21.Training Loss: 0.238.Validation Loss: 0.177.Validation Accuracy: 95.08%\n",
      "Epoch22.Training Loss: 0.237.Validation Loss: 0.176.Validation Accuracy: 95.08%\n",
      "Epoch23.Training Loss: 0.236.Validation Loss: 0.175.Validation Accuracy: 95.08%\n",
      "Epoch24.Training Loss: 0.236.Validation Loss: 0.174.Validation Accuracy: 95.30%\n",
      "Epoch25.Training Loss: 0.235.Validation Loss: 0.173.Validation Accuracy: 95.30%\n",
      "Epoch26.Training Loss: 0.234.Validation Loss: 0.173.Validation Accuracy: 95.30%\n",
      "Epoch27.Training Loss: 0.234.Validation Loss: 0.172.Validation Accuracy: 95.30%\n",
      "Epoch28.Training Loss: 0.233.Validation Loss: 0.172.Validation Accuracy: 95.30%\n",
      "Epoch29.Training Loss: 0.232.Validation Loss: 0.171.Validation Accuracy: 95.30%\n",
      "Epoch30.Training Loss: 0.232.Validation Loss: 0.171.Validation Accuracy: 95.30%\n",
      "Epoch31.Training Loss: 0.231.Validation Loss: 0.170.Validation Accuracy: 95.75%\n",
      "Epoch32.Training Loss: 0.231.Validation Loss: 0.170.Validation Accuracy: 95.75%\n",
      "Epoch33.Training Loss: 0.230.Validation Loss: 0.169.Validation Accuracy: 95.75%\n",
      "Epoch34.Training Loss: 0.230.Validation Loss: 0.169.Validation Accuracy: 95.75%\n",
      "Epoch35.Training Loss: 0.229.Validation Loss: 0.168.Validation Accuracy: 95.75%\n",
      "Epoch36.Training Loss: 0.229.Validation Loss: 0.168.Validation Accuracy: 95.97%\n",
      "Epoch37.Training Loss: 0.228.Validation Loss: 0.167.Validation Accuracy: 95.75%\n",
      "Epoch38.Training Loss: 0.228.Validation Loss: 0.167.Validation Accuracy: 95.97%\n",
      "Epoch39.Training Loss: 0.228.Validation Loss: 0.166.Validation Accuracy: 95.97%\n",
      "Epoch40.Training Loss: 0.227.Validation Loss: 0.166.Validation Accuracy: 95.97%\n",
      "Epoch41.Training Loss: 0.227.Validation Loss: 0.166.Validation Accuracy: 95.97%\n",
      "Epoch42.Training Loss: 0.226.Validation Loss: 0.166.Validation Accuracy: 95.75%\n",
      "Epoch43.Training Loss: 0.226.Validation Loss: 0.166.Validation Accuracy: 95.75%\n",
      "End of Training.\n"
     ]
    }
   ],
   "source": [
    "input_size = 10\n",
    "output_size= 2\n",
    "hidden_layer_size = 50\n",
    "\n",
    "tf.reset_default_graph()\n",
    "\n",
    "inputs = tf.placeholder(tf.float32,[None,input_size])\n",
    "targets = tf.placeholder(tf.int32, [None,output_size])\n",
    "\n",
    "weights_1 = tf.get_variable(\"weights_1\",[input_size,hidden_layer_size])\n",
    "biases_1 = tf.get_variable(\"biases_1\",[hidden_layer_size])\n",
    "\n",
    "output_1 = tf.nn.relu(tf.matmul(inputs,weights_1)+biases_1)\n",
    "\n",
    "\n",
    "weights_2 = tf.get_variable(\"weights_2\",[hidden_layer_size,hidden_layer_size])\n",
    "biases_2 = tf.get_variable(\"biases_2\",[hidden_layer_size])\n",
    "\n",
    "output_2 = tf.nn.relu(tf.matmul(output_1,weights_2)+biases_2)\n",
    "\n",
    "\n",
    "weights_3 = tf.get_variable(\"weights_3\",[hidden_layer_size,output_size])\n",
    "biases_3 = tf.get_variable(\"biases_3\",[output_size])\n",
    "\n",
    "outputs = tf.matmul(output_2,weights_3)+biases_3\n",
    "\n",
    "\n",
    "loss = tf.nn.softmax_cross_entropy_with_logits(logits = outputs,labels = targets)\n",
    "mean_loss = tf.reduce_mean(loss)\n",
    "\n",
    "optimize = tf.train.AdamOptimizer(learning_rate = 0.001).minimize(mean_loss)\n",
    "\n",
    "out_equals_target = tf.equal(tf.argmax(outputs,1),tf.argmax(targets,1))\n",
    "accuracy = tf.reduce_mean(tf.cast(out_equals_target, tf.float32))\n",
    "\n",
    "sess = tf.InteractiveSession()\n",
    "\n",
    "initializer = tf.global_variables_initializer()\n",
    "\n",
    "sess.run(initializer)\n",
    "\n",
    "batch_size = 100\n",
    "max_epochs = 50\n",
    "prev_validation_loss = 999999.0\n",
    "\n",
    "\n",
    "train_data = Audiobooks_Data_Reader('train',batch_size)\n",
    "validation_data = Audiobooks_Data_Reader('validation')\n",
    "\n",
    "for epoch_counter in range(max_epochs):\n",
    "    \n",
    "    curr_epoch_loss = 0.\n",
    "    \n",
    "    for input_batch,target_batch in train_data:\n",
    "        _, batch_loss = sess.run([optimize,mean_loss],\n",
    "                                 feed_dict = {inputs :input_batch,targets :target_batch})\n",
    "        curr_epoch_loss = curr_epoch_loss + batch_loss\n",
    "        \n",
    "    curr_epoch_loss/= train_data.batch_count\n",
    "    \n",
    "    validation_loss = 0.\n",
    "    validation_accuracy = 0.\n",
    "    \n",
    "    for input_batch,target_batch in validation_data:\n",
    "        validation_loss,validation_accuracy = sess.run([mean_loss,accuracy],\n",
    "                                 feed_dict = {inputs :input_batch,targets: target_batch})\n",
    "    \n",
    "    print('Epoch'+str(epoch_counter+1)+\n",
    "         '.Training Loss: '+'{0:.3f}'.format(curr_epoch_loss)+\n",
    "         '.Validation Loss: '+'{0:.3f}'.format(validation_loss)+\n",
    "         '.Validation Accuracy: '+'{0:.2f}'.format(validation_accuracy*100)+'%')\n",
    "    \n",
    "    if validation_loss > prev_validation_loss:\n",
    "        break\n",
    "    \n",
    "    prev_validation_loss = validation_loss\n",
    "    \n",
    "print('End of Training.')"
   ]
  },
  {
   "cell_type": "markdown",
   "metadata": {},
   "source": [
    "# Test the Model"
   ]
  },
  {
   "cell_type": "code",
   "execution_count": 13,
   "metadata": {},
   "outputs": [
    {
     "name": "stdout",
     "output_type": "stream",
     "text": [
      "Test Accuracy: 88.62%\n"
     ]
    }
   ],
   "source": [
    "test_data = Audiobooks_Data_Reader('test')\n",
    "\n",
    "for input_batch,target_batch in test_data:\n",
    "        test_accuracy = sess.run([accuracy],\n",
    "                                 feed_dict = {inputs :input_batch,targets: target_batch})\n",
    "        \n",
    "test_accuracy_percent = test_accuracy[0] *100 #Test Accuracy is list\n",
    "\n",
    "print('Test Accuracy: '+'{0:.2f}'.format(test_accuracy_percent)+'%')\n",
    "    "
   ]
  },
  {
   "cell_type": "code",
   "execution_count": null,
   "metadata": {},
   "outputs": [],
   "source": []
  }
 ],
 "metadata": {
  "kernelspec": {
   "display_name": "Python 3",
   "language": "python",
   "name": "python3"
  },
  "language_info": {
   "codemirror_mode": {
    "name": "ipython",
    "version": 3
   },
   "file_extension": ".py",
   "mimetype": "text/x-python",
   "name": "python",
   "nbconvert_exporter": "python",
   "pygments_lexer": "ipython3",
   "version": "3.6.8"
  }
 },
 "nbformat": 4,
 "nbformat_minor": 2
}
